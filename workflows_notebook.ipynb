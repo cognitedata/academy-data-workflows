{
 "cells": [
  {
   "cell_type": "markdown",
   "id": "be31e75beede2776",
   "metadata": {},
   "source": [
    "# Data Workflows Hands-on Exercises \n",
    "\n",
    "This notebook showcases the functionalities offered by the Cognite Data Fusion Data Workflows. In this notebook, we will create some dummy Functions, TimeSeries, and Transformations for use in the rest of the notebook exercises. \n",
    "\n",
    "The project we will be using for this course is in a training environment, and it will be used by other learners from the course. For that, please make sure to use \"FirstnameBirthyear\" (example, madina1997) prefix to differentiate the workflows and tasks you are creating. Which means you need to replace FirstnameBirthyear with your unique name and birthyear whenever FirstnameBirthyear naming convention is mentioned.\n",
    "\n",
    "## Authentication and Client Creation\n",
    "\n",
    "Here we'll create the Cognite client using an interactive flow. Once this client is created, this will be the main way to communicate with the Cognite Data Fusion.\n",
    "\n",
    "Import and create a client to communicate with the Cognite Data Fusion (CDF)."
   ]
  },
  {
   "cell_type": "code",
   "execution_count": null,
   "id": "initial_id",
   "metadata": {
    "scrolled": true
   },
   "outputs": [],
   "source": [
    "%pip install cognite_sdk networkx matplotlib pandas"
   ]
  },
  {
   "cell_type": "code",
   "execution_count": null,
   "id": "e135e880",
   "metadata": {},
   "outputs": [],
   "source": [
    "from cognite.client import CogniteClient, ClientConfig\n",
    "from cognite.client.credentials import Token\n",
    "from msal import PublicClientApplication\n",
    "\n",
   
    "TENANT_ID = \"48d5043c-cf70-4c49-881c-c638f5796997\"\n",
    "CLIENT_ID = \"7c830d37-1bdd-43a5-80ee-d842a712a919\"\n",
    "CDF_CLUSTER = \"westeurope-1\"\n",
    "COGNITE_PROJECT = \"learn\"\n",
    "\n",
    "SCOPES = [f\"https://{CDF_CLUSTER}.cognitedata.com/.default\"]\n",
    "TOKEN_URL = f\"https://login.microsoftonline.com/{TENANT_ID}/oauth2/v2.0/token\"\n",
    "AUTHORITY_HOST_URI = \"https://login.microsoftonline.com\"\n",
    "AUTHORITY_URI = AUTHORITY_HOST_URI + \"/\" + TENANT_ID\n",
    "PORT = 53000\n",
    "\n",
    "\n",
    "def authenticate_azure():\n",
    "\n",
    "    app = PublicClientApplication(client_id=CLIENT_ID, authority=AUTHORITY_URI)\n",
    "\n",
    "    # interactive login - make sure you have http://localhost:port in Redirect URI in App Registration as type \"Mobile and desktop applications\"\n",
    "    creds = app.acquire_token_interactive(scopes=SCOPES, port=PORT)\n",
    "    return creds\n",
    "\n",
    "\n",
    "creds = authenticate_azure()\n",
    "\n",
    "cnf = ClientConfig(\n",
    "    client_name=\"workflow_FirstnameBirthyear_client\",\n",
    "    project=COGNITE_PROJECT,\n",
    "    credentials=Token(creds[\"access_token\"]),\n",
    "    base_url=f\"https://{CDF_CLUSTER}.cognitedata.com\",\n",
    ")\n",
    "client = CogniteClient(cnf)\n",
    "\n",
    "workflows = client.workflows\n",
    "\n",
    "workflows.list()"
   ]
  },
  {
   "cell_type": "markdown",
   "id": "12029d84aad6d14",
   "metadata": {},
   "source": [
    "The next few cells will set up some helpers for the rest of the notebook and populate some dummy Functions, TimeSeries, and Transformations for use in the rest of the notebook exercises. These will be cleaned up at the end of the notebook (see the last section). Make sure to run all the set up cells until the \"Workflow Concepts\" section. "
   ]
  },
  {
   "cell_type": "code",
   "execution_count": null,
   "id": "aef32b19051475f1",
   "metadata": {},
   "outputs": [],
   "source": [
    "from cognite.client.data_classes import WorkflowVersion\n",
    "import networkx as nx\n",
    "import matplotlib.pyplot as plt\n",
    "\n",
    "def visualize_workflow_version(workflow_version: WorkflowVersion):\n",
    "    # Extract tasks and their dependencies from the workflow_version_upsert object\n",
    "    tasks = workflow_version.workflow_definition.tasks\n",
    "\n",
    "    task_dict = {}\n",
    "    for task in tasks:\n",
    "        task_dict[task.external_id] = task.depends_on or []\n",
    "\n",
    "    # Add start and end nodes\n",
    "    start_tasks = [task for task, deps in task_dict.items() if not deps]\n",
    "    end_tasks = [task for task, deps in task_dict.items() if not any(task in dep for dep in task_dict.values())]\n",
    "\n",
    "    # Create the graph\n",
    "    G = nx.DiGraph()\n",
    "    G.add_node(\"start\")\n",
    "    G.add_node(\"end\")\n",
    "\n",
    "    for task, deps in task_dict.items():\n",
    "        if not deps:\n",
    "            G.add_edge(\"start\", task)\n",
    "        for dep in deps:\n",
    "            G.add_edge(dep, task)\n",
    "        if task in end_tasks:\n",
    "            G.add_edge(task, \"end\")\n",
    "\n",
    "    # Define positions for the nodes in the graph\n",
    "    pos = {}\n",
    "    layer_width = 1\n",
    "    layer_height = 1\n",
    "    current_y = 0\n",
    "\n",
    "    pos[\"start\"] = (0, 0)\n",
    "    current_x = layer_width\n",
    "\n",
    "    for task in start_tasks:\n",
    "        pos[task] = (current_x, current_y)\n",
    "        current_y -= layer_height\n",
    "\n",
    "    for task, deps in task_dict.items():\n",
    "        if deps:\n",
    "            current_x += layer_width\n",
    "            for dep in deps:\n",
    "                if dep in pos:\n",
    "                    dep_y = pos[dep][1]\n",
    "                    pos[task] = (current_x, dep_y)\n",
    "                    current_y = dep_y - layer_height\n",
    "                else:\n",
    "                    pos[task] = (current_x, current_y)\n",
    "                    current_y -= layer_height\n",
    "\n",
    "    current_y = 0\n",
    "    current_x += layer_width\n",
    "    for task in end_tasks:\n",
    "        pos[task] = (current_x, current_y)\n",
    "        current_y -= layer_height\n",
    "\n",
    "    pos[\"end\"] = (current_x + layer_width, 0)\n",
    "\n",
    "    # Draw the nodes\n",
    "    nx.draw_networkx_nodes(G, pos, node_size=2000, node_color='lightblue')\n",
    "\n",
    "    # Draw the edges\n",
    "    nx.draw_networkx_edges(G, pos, arrowstyle='-|>', arrowsize=20, edge_color='gray')\n",
    "\n",
    "    # Draw the labels\n",
    "    labels = {task: task for task in G.nodes}\n",
    "    labels[\"start\"] = \"Start\"\n",
    "    labels[\"end\"] = \"End\"\n",
    "    nx.draw_networkx_labels(G, pos, labels, font_size=10)\n",
    "\n",
    "    # Display the graph\n",
    "    plt.title(\"Workflow Task Graph\")\n",
    "    plt.axis('off')  # Turn off the axis\n",
    "    plt.show()"
   ]
  },
  {
   "cell_type": "code",
   "execution_count": 5,
   "id": "f493a8290d0bfe68",
   "metadata": {},
   "outputs": [],
   "source": [
    "def show_execution_progress(execution_id: int):\n",
    "    execution = workflows.executions.retrieve_detailed(id=execution_id)\n",
    "    print(f\"Execution status: {execution.status}\")\n",
    "    if execution.reason_for_incompletion:\n",
    "        print(f\"Execution reason for incompletion: {execution.reason_for_incompletion}\")\n",
    "    print(\"Executed tasks:\")\n",
    "    for task in execution.executed_tasks:\n",
    "        print(task.dump())\n",
    "        print(\"\")"
   ]
  },
  {
   "cell_type": "code",
   "execution_count": null,
   "id": "6e9e20b6bfbaaab0",
   "metadata": {},
   "outputs": [],
   "source": [
    "def handle(client, data):\n",
    "    prefix = data[\"timeseries-prefix\"]\n",
    "    print(f\"fetching timeseries with prefix: {prefix}\")\n",
    "    ts = client.time_series.list(external_id_prefix=prefix)\n",
    "    print(f\"time series results: {ts}\")\n",
    "    ts_ext_ids = [ts.external_id for ts in ts]\n",
    "    return { \"externalIds\": ts_ext_ids }\n",
    "    \n",
    "#client.functions.delete(external_id=\"madina1997-function-fetch\")\n",
    "\n",
    "client.functions.create(\n",
    "    name=\"FirstnameBirthyear-function-fetch\", #example, madina1997-function-fetch\n",
    "    external_id=\"FirstnameBirthyear-function-fetch\", #example, madina1997-function-fetch\n",
    "    function_handle=handle\n",
    ")"
   ]
  },
  {
   "cell_type": "code",
   "execution_count": null,
   "id": "fb7bb009dcf084c4",
   "metadata": {},
   "outputs": [],
   "source": [
    "def handle(client, data):\n",
    "    print(f\"the input is: ${data}\")\n",
    "    return data\n",
    "\n",
    "client.functions.create(\n",
    "    name=\"FirstnameBirthyear-function-print\",\n",
    "    external_id=\"FirstnameBirthyear-function-print\",\n",
    "    function_handle=handle,\n",
    ")"
   ]
  },
  {
   "cell_type": "code",
   "execution_count": null,
   "id": "4db083092ccc6274",
   "metadata": {},
   "outputs": [],
   "source": [
    "from cognite.client.data_classes import TransformationWrite, TransformationDestination\n",
    "\n",
    "client.transformations.create(transformation=TransformationWrite(\n",
    "    external_id=\"FirstnameBirthyear-transform\",\n",
    "    name=\"FirstnameBirthyear-transform\",\n",
    "    ignore_null_fields=True,\n",
    "    query=\"\"\"select cast(`externalId` as STRING) as externalId from `_cdf`.`assets`;\"\"\",\n",
    "    destination=TransformationDestination.events()\n",
    "))"
   ]
  },
  {
   "cell_type": "markdown",
   "id": "3fc8c15299d89da9",
   "metadata": {},
   "source": [
    "## Workflow Concepts ##\n",
    "\n",
    "![title](img/concepts_data_workflows.png)\n",
    "\n",
    "First, a Workflow needs to be created."
   ]
  },
  {
   "cell_type": "code",
   "execution_count": null,
   "id": "dc303fa78d93002f",
   "metadata": {},
   "outputs": [],
   "source": [
    "from cognite.client.data_classes import WorkflowUpsert\n",
    "\n",
    "# workflows.delete(external_id=\"FirstnameBirthyear-workflow\")\n",
    "\n",
    "FirstnameBirthyear_workflow = workflows.upsert(workflow=WorkflowUpsert(\n",
    "    external_id=\"FirstnameBirthyear-workflow\",\n",
    "    description=\"my awesome workflow\",\n",
    "))\n",
    "\n",
    "print(FirstnameBirthyear_workflow)"
   ]
  },
  {
   "cell_type": "markdown",
   "id": "37ce518b0fea29e0",
   "metadata": {},
   "source": [
    "## Workflow Definitions ##\n",
    "Workflow Definition are the blueprint of the tasks that need to be executed in as part of your Workflow. This contains the tasks, how they are connected, how data should flow between tasks, and tweaks for robustness.\n",
    "\n",
    "Analyze the cell below to see an example of the simplest Workflow possible. A single Function task being, targeting the Function with externalId \"FirstnameBirthyear-function-print\"."
   ]
  },
  {
   "cell_type": "code",
   "execution_count": null,
   "id": "8c8c06dbcee03d92",
   "metadata": {},
   "outputs": [],
   "source": [
    "from cognite.client.data_classes import WorkflowVersionUpsert, WorkflowDefinitionUpsert, WorkflowTask, \\\n",
    "    FunctionTaskParameters\n",
    "\n",
    "first_version = workflows.versions.upsert(version=WorkflowVersionUpsert(\n",
    "    workflow_external_id=FirstnameBirthyear_workflow.external_id,\n",
    "    version = \"my-first-version\",\n",
    "    workflow_definition=WorkflowDefinitionUpsert(\n",
    "        tasks=[\n",
    "            WorkflowTask(\n",
    "                external_id=\"t1\",\n",
    "                parameters=FunctionTaskParameters(\n",
    "                    external_id=\"FirstnameBirthyear-function-print\",\n",
    "                )\n",
    "            )\n",
    "        ],\n",
    "        description=None,\n",
    "    )\n",
    "))\n",
    "\n",
    "visualize_workflow_version(first_version)"
   ]
  },
  {
   "cell_type": "markdown",
   "id": "80e58dea418285d5",
   "metadata": {},
   "source": [
    "## Simple task types\n",
    "We currently support the following tasks targeting CDF services:\n",
    "- `Functions`: trigger and await a Cognite Function\n",
    "- `Transformations`: start and await a Transformation job\n",
    "- `CDF Request`: make a CDF request to fetch data, start something, ...\n",
    "\n",
    "There are other, structural tasks which will be touched upon later (dynamic and subworkflow task)\n",
    "\n",
    "The cell belows shows an example of a Workflow containing a Function task, a CDF task, and a Transformation task."
   ]
  },
  {
   "cell_type": "code",
   "execution_count": null,
   "id": "a00fb93ae324b524",
   "metadata": {},
   "outputs": [],
   "source": [
    "from cognite.client.data_classes import WorkflowVersionUpsert, WorkflowDefinitionUpsert, WorkflowTask, \\\n",
    "    FunctionTaskParameters, CDFTaskParameters, TransformationTaskParameters\n",
    "\n",
    "workflow_with_all_task_types = workflows.versions.upsert(version=WorkflowVersionUpsert(\n",
    "    workflow_external_id=FirstnameBirthyear_workflow.external_id,\n",
    "    version = \"my-awesome-version\",\n",
    "    workflow_definition=WorkflowDefinitionUpsert(\n",
    "        tasks=[\n",
    "            WorkflowTask(\n",
    "                external_id=\"function\",\n",
    "                parameters=FunctionTaskParameters(\n",
    "                    # The function externalId\n",
    "                    external_id=\"FirstnameBirthyear-function-print\",\n",
    "                    # The input data to pass to the Function (arbitrary JSON object)\n",
    "                    data={\n",
    "                        \"some-key\": \"some-value\",\n",
    "                        \"some-other-key\": [1, 2, 3],\n",
    "                        \"some-other-other-key\": {\n",
    "                            \"nested-key\": \"nested-value\"\n",
    "                        }\n",
    "                    }\n",
    "                )\n",
    "            ),\n",
    "            WorkflowTask(\n",
    "                external_id=\"cdf\",\n",
    "                parameters=CDFTaskParameters(\n",
    "                    resource_path=\"/timeseries/byids\",\n",
    "                    method=\"POST\",\n",
    "                    body={\n",
    "                        \"items\": [\n",
    "                            { \"externalId\": \"FirstnameBirthyear-timeseries\" },\n",
    "                        ],\n",
    "                    },\n",
    "                    query_parameters={\n",
    "                        \"ignoreUnknownIds\": \"True\"\n",
    "                    },\n",
    "                    request_timeout_in_millis=5000 # default 10 000\n",
    "                ),\n",
    "            ),\n",
    "            WorkflowTask(\n",
    "                external_id=\"transformation\",\n",
    "                parameters=TransformationTaskParameters(\n",
    "                    external_id=\"FirstnameBirthyear-transform\",\n",
    "                    concurrency_policy=\"waitForCurrent\" # fail | restartAfterCurrent | waitForCurrent, default: fail\n",
    "                )\n",
    "            )\n",
    "        ],\n",
    "        description=None,\n",
    "    )\n",
    "))\n",
    "\n",
    "visualize_workflow_version(workflow_with_all_task_types)"
   ]
  },
  {
   "cell_type": "markdown",
   "id": "577e1f32db3c9e65",
   "metadata": {},
   "source": [
    "### Executing a Workflow and inspecting the execution\n",
    "Triggering a Workflow is as simple as calling `trigger` with the target being the Workflow and Version pair. \n",
    "\n",
    "When using the Python SDK, session handling is taken care of, as it uses the session tied to the SDK instance. \n",
    "Be aware that the credentials need specific permission for each Task that is part of the Workflow Version, for example, for a Functions task, it needs `functions:write` and `functions:read`.\n",
    "\n",
    "In the cells below the Workflow version with all simple task types will be triggered, then (all) executions are listed, and lastly, we see how to get the details of the Workflow that has just been executed and follow the execution progress."
   ]
  },
  {
   "cell_type": "code",
   "execution_count": null,
   "id": "c2de2268b74efc6",
   "metadata": {},
   "outputs": [],
   "source": [
    "from cognite.client.data_classes import ClientCredentials\n",
    "\n",
    "execution = workflows.executions.trigger(\n",
    "    workflow_external_id=FirstnameBirthyear_workflow.external_id,\n",
    "    version=workflow_with_all_task_types.version,\n",
    "    # variable input to the Workflow, more on this later\n",
    "    input={\n",
    "        \"some-key\": \"some-value\",\n",
    "    },\n",
    "    # metadata to tie to an execution\n",
    "    metadata={\n",
    "        \"some-key\": \"some-value\",\n",
    "    },\n",
    ")"
   ]
  },
  {
   "cell_type": "code",
   "execution_count": null,
   "id": "ce20e1adb82e212c",
   "metadata": {},
   "outputs": [],
   "source": [
    "from cognite.client.data_classes import WorkflowVersionId\n",
    "\n",
    "# fetching (all) executions\n",
    "workflows.executions.list(\n",
    "    workflow_version_ids=WorkflowVersionId(\n",
    "        workflow_external_id=FirstnameBirthyear_workflow.external_id, \n",
    "        version=workflow_with_all_task_types.version\n",
    "    ),\n",
    ")"
   ]
  },
  {
   "cell_type": "code",
   "execution_count": null,
   "id": "babf4b46eac1e458",
   "metadata": {},
   "outputs": [],
   "source": [
    "# fetching the details of an execution\n",
    "workflows.executions.retrieve_detailed(id=execution.id)"
   ]
  },
  {
   "cell_type": "code",
   "execution_count": null,
   "id": "a6c253e4a623b849",
   "metadata": {},
   "outputs": [],
   "source": [
    "show_execution_progress(execution.id)"
   ]
  },
  {
   "cell_type": "markdown",
   "id": "3e0a686e6d339099",
   "metadata": {},
   "source": [
    "## Dependencies\n",
    "Definining dependencies is as simple as adding an entry to the `dependsOn` parameter of the task, referencing the externalIds of the tasks that it depends on.\n",
    "\n",
    "With Data Workflows, we try to parallelize the Workflows' tasks as much as possible, if there are multiple tasks that have their dependencies resolved, we schedule them to run as soon as possible. \n"
   ]
  },
  {
   "cell_type": "code",
   "execution_count": null,
   "id": "dea918ef8efb1920",
   "metadata": {},
   "outputs": [],
   "source": [
    "third_version = workflows.versions.upsert(version=WorkflowVersionUpsert(\n",
    "    workflow_external_id=FirstnameBirthyear_workflow.external_id,\n",
    "    version = \"my-third-version\",\n",
    "    workflow_definition=WorkflowDefinitionUpsert(\n",
    "        tasks=[\n",
    "            WorkflowTask(\n",
    "                external_id=\"t1\",\n",
    "                parameters=FunctionTaskParameters(\n",
    "                    external_id=\"FirstnameBirthyear-function\",\n",
    "                )\n",
    "            ),\n",
    "            WorkflowTask(\n",
    "                external_id=\"t2\",\n",
    "                parameters=FunctionTaskParameters(\n",
    "                    external_id=\"FirstnameBirthyear-function\",\n",
    "                ),\n",
    "                depends_on=[\"t1\"]\n",
    "            ),\n",
    "            WorkflowTask(\n",
    "                external_id=\"t3\",\n",
    "                parameters=FunctionTaskParameters(\n",
    "                    external_id=\"FirstnameBirthyear-function\",\n",
    "                )\n",
    "            )\n",
    "        ],\n",
    "        description=None,\n",
    "    )\n",
    "))\n",
    "\n",
    "visualize_workflow_version(third_version)"
   ]
  },
  {
   "cell_type": "code",
   "execution_count": null,
   "id": "f426e1cbf1af6cfa",
   "metadata": {},
   "outputs": [],
   "source": [
    "second_version = workflows.versions.upsert(version=WorkflowVersionUpsert(\n",
    "    workflow_external_id=FirstnameBirthyear_workflow.external_id,\n",
    "    version = \"my-third-version\",\n",
    "    workflow_definition=WorkflowDefinitionUpsert(\n",
    "        tasks=[\n",
    "            WorkflowTask(\n",
    "                external_id=\"t1\",\n",
    "                parameters=FunctionTaskParameters(\n",
    "                    external_id=\"FirstnameBirthyear-function\",\n",
    "                )\n",
    "            ),\n",
    "            WorkflowTask(\n",
    "                external_id=\"t2\",\n",
    "                parameters=FunctionTaskParameters(\n",
    "                    external_id=\"FirstnameBirthyear-function\",\n",
    "                ),\n",
    "                depends_on=[\"t1\", \"t3\"]\n",
    "            ),\n",
    "            WorkflowTask(\n",
    "                external_id=\"t3\",\n",
    "                parameters=FunctionTaskParameters(\n",
    "                    external_id=\"FirstnameBirthyear-function\",\n",
    "                )\n",
    "            )\n",
    "        ],\n",
    "        description=None,\n",
    "    )\n",
    "))\n",
    "\n",
    "visualize_workflow_version(second_version)"
   ]
  },
  {
   "cell_type": "markdown",
   "id": "b88131287f3a707a",
   "metadata": {},
   "source": [
    "## Data flow in Data Workflows\n",
    "When specifying task properties in the workflow definition, you can use static values or references (expressions). A Reference is an expression that dynamically injects input to a task during execution. Use references to reference the workflow's input or the input or output of a previous task in the workflow.\n",
    "\n",
    "References must adhere to the format &#36;{prefix.jsonPath}, a JSON Path preceded by a prefix. The valid prefixes are:\n",
    "\n",
    "- \\<taskExternalId\\>.output\n",
    "- \\<taskExternalId\\>.input\n",
    "- workflow.input\n",
    "\n",
    "The jsonPath refers to the path of a key in the JSON object defined by the prefix.\n",
    "\n",
    "For instance, a task output reference could look like {myTaskExternalId.output.someKey}, or a workflow input reference like this {workflow.input.myKey}.\n"
   ]
  },
  {
   "cell_type": "code",
   "execution_count": null,
   "id": "8a43155116293eaa",
   "metadata": {},
   "outputs": [],
   "source": [
    "inputs_outputs = workflows.versions.upsert(version=WorkflowVersionUpsert(\n",
    "    workflow_external_id=FirstnameBirthyear_workflow.external_id,\n",
    "    version = \"my-second-version\",\n",
    "    workflow_definition=WorkflowDefinitionUpsert(\n",
    "        tasks=[\n",
    "            WorkflowTask(\n",
    "                external_id=\"t1\",\n",
    "                parameters=FunctionTaskParameters(\n",
    "                    external_id=\"FirstnameBirthyear-function-fetch\",\n",
    "                    data=\"${workflow.input}\"\n",
    "                )\n",
    "            ),\n",
    "            WorkflowTask(\n",
    "                external_id=\"t2\",\n",
    "                parameters=FunctionTaskParameters(\n",
    "                    external_id=\"FirstnameBirthyear-function-print\",\n",
    "                    data={\n",
    "                        \"some-key\": \"${t1.output.response}\"\n",
    "                    }\n",
    "                ),\n",
    "                depends_on=[\"t1\"]\n",
    "            )\n",
    "        ],\n",
    "        description=None,\n",
    "    )\n",
    "))\n",
    "\n",
    "visualize_workflow_version(inputs_outputs)"
   ]
  },
  {
   "cell_type": "code",
   "execution_count": null,
   "id": "587bb273a0bc2d43",
   "metadata": {},
   "outputs": [],
   "source": [
    "execution = workflows.executions.trigger(\n",
    "    workflow_external_id=FirstnameBirthyear_workflow.external_id,\n",
    "    version=inputs_outputs.version,\n",
    "    input={\"timeseries-prefix\": \"JAZZ-\"}\n",
    ")"
   ]
  },
  {
   "cell_type": "code",
   "execution_count": null,
   "id": "6351b76c387b2937",
   "metadata": {},
   "outputs": [],
   "source": [
    "show_execution_progress(execution.id)"
   ]
  },
  {
   "cell_type": "markdown",
   "id": "b63e54ae1403a0bc",
   "metadata": {},
   "source": [
    "## Task and workflow robustness ##\n",
    "Things can always go wrong, either through a system error (for example, a CDF service being unavailable) or a user error (a misconfiguration or overly expensive Transformation). With Data Workflows, the following tools are provided to deal with these issues.\n",
    "\n",
    "#### Task level\n",
    "- `timeout`: The maximum duration a task can run before it is terminated. The default value is 3600 seconds (1 hour), and can go up to 12 hours. The value is in seconds.\n",
    "- `retries`: The number of retries if the task fails. You can set any value from 0 to 10. The default value is 3. Currently, there are no retries on timeout.\n",
    "- `onFailure`: More on this in the next section.\n",
    "\n",
    "#### Workflow level\n",
    "- `timeout`: The maximum duration of a Workflow, currently not adjustable and set to 24 hours.\n",
    "\n",
    "\n",
    "In the example below, a failure is simulated by trying to fetch a timeseries that does not exist. Observe that the task is retried. Note that Data Workflows will by default wait a bit between retries to combat transient errors. "
   ]
  },
  {
   "cell_type": "code",
   "execution_count": 49,
   "id": "93e1a175402f0256",
   "metadata": {},
   "outputs": [],
   "source": [
    "client.time_series.delete(external_id=\"FirstnameBirthyear-timeseries\", ignore_unknown_ids=True)"
   ]
  },
  {
   "cell_type": "code",
   "execution_count": 50,
   "id": "c5817f5fb57e1f28",
   "metadata": {},
   "outputs": [],
   "source": [
    "from typing import Literal\n",
    "from cognite.client.data_classes import CDFTaskParameters\n",
    "\n",
    "def create_failure_version(retries: int = 3, on_failure: Literal[\"abortWorkflow\", \"skipTask\"] = \"abortWorkflow\"):\n",
    "    workflows.versions.upsert(version=WorkflowVersionUpsert(\n",
    "        workflow_external_id=\"FirstnameBirthyear-workflow\",\n",
    "        version = \"failure-version\",\n",
    "        workflow_definition=WorkflowDefinitionUpsert(\n",
    "            tasks=[\n",
    "                WorkflowTask(\n",
    "                    external_id=\"t1\",\n",
    "                    parameters=CDFTaskParameters(\n",
    "                        resource_path=\"/timeseries/byids\",\n",
    "                        method=\"POST\",\n",
    "                        body={\n",
    "                            \"items\": [\n",
    "                                {\n",
    "                                    \"externalId\": \"FirstnameBirthyear-timeseries\"\n",
    "                                }\n",
    "                            ]\n",
    "                            \n",
    "                        }\n",
    "                    ),\n",
    "                    retries=retries, # [0, 10], default: 3, delay between retries is 20 * retryCount in seconds\n",
    "                    timeout=3600, # in seconds, up to 24 hours\n",
    "                    on_failure= on_failure # \"abortWorkflow | skipTask\"\n",
    "                ),\n",
    "                WorkflowTask(\n",
    "                    external_id=\"t2\",\n",
    "                    parameters=FunctionTaskParameters(\n",
    "                        external_id=\"FirstnameBirthyear-function-print\",\n",
    "                        data=\"${t1.output.response}\"\n",
    "                    ),\n",
    "                    depends_on=[\"t1\"],\n",
    "                )\n",
    "            ],\n",
    "            description=None,\n",
    "        )\n",
    "    ))"
   ]
  },
  {
   "cell_type": "code",
   "execution_count": 51,
   "id": "bc996b2ae027e94",
   "metadata": {},
   "outputs": [],
   "source": [
    "create_failure_version(retries=1, on_failure=\"abortWorkflow\")"
   ]
  },
  {
   "cell_type": "code",
   "execution_count": null,
   "id": "6ec5d5804f6c0f41",
   "metadata": {},
   "outputs": [],
   "source": [
    "execution = workflows.executions.trigger(workflow_external_id=FirstnameBirthyear_workflow.external_id, version=\"failure-version\")"
   ]
  },
  {
   "cell_type": "markdown",
   "id": "25d458ca72f8d30b",
   "metadata": {},
   "source": [
    "## The behaviour is as follows:\n",
    "![title](img/abort_workflow_example.png)"
   ]
  },
  {
   "cell_type": "code",
   "execution_count": null,
   "id": "2766fac74634f44d",
   "metadata": {},
   "outputs": [],
   "source": [
    "show_execution_progress(execution.id)"
   ]
  },
  {
   "attachments": {
    "e464e8e6-016a-4bf1-8cf2-bae87e9d7650.png": {
     "image/png": "[encoded data removed]"
    }
   },
   "cell_type": "markdown",
   "id": "6d551909-26bd-4f0c-95b6-11bde2989968",
   "metadata": {},
   "source": [
    "![image.png](attachment:e464e8e6-016a-4bf1-8cf2-bae87e9d7650.png)"
   ]
  },
  {
   "cell_type": "code",
   "execution_count": null,
   "id": "bf75d040cdfd0aea",
   "metadata": {},
   "outputs": [],
   "source": [
    "from cognite.client.data_classes import TimeSeriesWrite\n",
    "\n",
    "client.time_series.create(TimeSeriesWrite(external_id=\"FirstnameBirthyear-timeseries\"))"
   ]
  },
  {
   "cell_type": "markdown",
   "id": "9b53f0cacb8a1eab",
   "metadata": {},
   "source": [
    "## Optional tasks (onFailure)\n",
    "Some tasks may not be crucial to workflow completion, for example, you could have a transformation in your ingestion pipeline that only needs to run to completion now and then, e.g., data does not often change. \n",
    "\n",
    "onFailure = \"skipTask\": when retries are exhausted, the task is marked as completed_with_errors and the workflow continues  \n",
    "onFailure = \"abortWorkflow\": the task is marked as failed after retries are exhausted\n",
    "\n",
    "In this example, the same Workflow will be run, but this time, the task is marked as optional."
   ]
  },
  {
   "cell_type": "code",
   "execution_count": 55,
   "id": "bd44ccc7f7c27672",
   "metadata": {},
   "outputs": [],
   "source": [
    "client.time_series.delete(external_id=\"FirstnameBirthyear-timeseries\", ignore_unknown_ids=True)\n",
    "create_failure_version(retries=0, on_failure=\"skipTask\")"
   ]
  },
  {
   "cell_type": "code",
   "execution_count": null,
   "id": "2aa509236e327c43",
   "metadata": {},
   "outputs": [],
   "source": [
    "execution = workflows.executions.trigger(workflow_external_id=FirstnameBirthyear_workflow.external_id, version=\"failure-version\")"
   ]
  },
  {
   "cell_type": "markdown",
   "id": "39553dd3cf4b0d73",
   "metadata": {},
   "source": [
    "The behaviour is now as follows:  \n",
    "\n",
    "![title](img/optional_task_example.png)"
   ]
  },
  {
   "cell_type": "code",
   "execution_count": null,
   "id": "f42f4dbf271a5e5",
   "metadata": {},
   "outputs": [],
   "source": [
    "show_execution_progress(execution.id)"
   ]
  },
  {
   "cell_type": "markdown",
   "id": "575539eec214a99f",
   "metadata": {},
   "source": [
    "## Manual Cancellation and Retrying\n",
    "\n",
    "`What can I do if a Workflow is stuck in progress?`\n",
    "\n",
    "Workflow cancellation: stops the specified execution from starting new workflow tasks and sets the workflow execution status to TERMINATED. Already running tasks will be marked as CANCELED.\n",
    "\n",
    "`How can I retry a Workflow when a task has failed and the underlying issue has been corrected without losing progress?`\n",
    "\n",
    "Workflow Retry:  resumes a previously failed, timed out, or terminated workflow execution by retrying tasks that did not complete successfully. It aims to resume execution activity from the point(s) of failure.\n",
    "\n",
    "Notes: \n",
    "- Tasks that have reached or exceeded their designated retry limits will not have their retry counts reset to zero. Instead, each retry request permits these tasks a single additional retry.\n",
    "- Optional tasks that have completed_with_errors are not retried.\n",
    "\n",
    "In this example, a workflow will be started where a task will continually fail because of a missing TimeSeries. Then the Workflow is cancelled, effectively halting the execution. Subsequently, the missing TimeSeries is created again, and the Execution is retried. Observe then that the Execution is able to complete.\n"
   ]
  },
  {
   "cell_type": "code",
   "execution_count": 58,
   "id": "83bf17df36dab344",
   "metadata": {},
   "outputs": [],
   "source": [
    "client.time_series.delete(external_id=\"FirstnameBirthyear-timeseries\", ignore_unknown_ids=True)\n",
    "create_failure_version(retries=10, on_failure=\"abortWorkflow\")"
   ]
  },
  {
   "cell_type": "code",
   "execution_count": null,
   "id": "dc0805294f7fb5bf",
   "metadata": {},
   "outputs": [],
   "source": [
    "execution = workflows.executions.trigger(workflow_external_id=FirstnameBirthyear_workflow.external_id, version=\"failure-version\")"
   ]
  },
  {
   "cell_type": "code",
   "execution_count": null,
   "id": "1d0eb08da9649c98",
   "metadata": {},
   "outputs": [],
   "source": [
    "show_execution_progress(execution.id)"
   ]
  },
  {
   "cell_type": "code",
   "execution_count": null,
   "id": "93a51953e6ba742c",
   "metadata": {},
   "outputs": [],
   "source": [
    "workflows.executions.cancel(id=execution.id, reason=\"Needs a coffee break\")"
   ]
  },
  {
   "cell_type": "code",
   "execution_count": null,
   "id": "7c9bef3d57971a92",
   "metadata": {},
   "outputs": [],
   "source": [
    "show_execution_progress(execution.id)"
   ]
  },
  {
   "cell_type": "code",
   "execution_count": null,
   "id": "258b73a617c620ea",
   "metadata": {},
   "outputs": [],
   "source": [
    "client.time_series.create(TimeSeriesWrite(external_id=\"FirstnameBirthyear-timeseries\"))"
   ]
  },
  {
   "cell_type": "code",
   "execution_count": null,
   "id": "1011e47e9388cda7",
   "metadata": {},
   "outputs": [],
   "source": [
    "workflows.executions.retry(id=execution.id)"
   ]
  },
  {
   "cell_type": "code",
   "execution_count": null,
   "id": "6de722a23c1382a5",
   "metadata": {},
   "outputs": [],
   "source": [
    "show_execution_progress(execution.id)"
   ]
  },
  {
   "cell_type": "markdown",
   "id": "52029279105d6cae",
   "metadata": {},
   "source": [
    "## Dynamic Tasks\n",
    "`How do I execute a variable number of tasks within a workflow?`  \n",
    "\n",
    "When a set of workflow tasks and their execution order are determined at runtime, we use dynamic tasks. It takes the tasks parameter, which should be an array of valid task definitions.\n",
    "\n",
    "This array of tasks needs to be determined during the runtime of the workflow and can, therefore, not be included statically in the workflow definition. Instead, we can use a reference, meaning a dynamic value that will be evaluated when the workflow is executed. The dynamic value can either refer to a part of the input to the execution or the output of another task in the workflow.\n"
   ]
  },
  {
   "cell_type": "markdown",
   "id": "1f6619b8331261ce",
   "metadata": {},
   "source": [
    "![title](img/dynamic_task_example.png)"
   ]
  },
  {
   "cell_type": "code",
   "execution_count": null,
   "id": "5838fb0fae0e6159",
   "metadata": {},
   "outputs": [],
   "source": [
    "def handle(client, data):\n",
    "    from cognite.client.data_classes import WorkflowTask, FunctionTaskParameters\n",
    "    timeseries_external_ids = data[\"externalIds\"]\n",
    "\n",
    "    tasks=[\n",
    "        WorkflowTask(\n",
    "            external_id=f\"process-{ext_id}\",\n",
    "            parameters=FunctionTaskParameters(\n",
    "                external_id=\"FirstnameBirthyear-function-print\",\n",
    "                data={\"tsExtId\": ext_id}\n",
    "            )\n",
    "        ).dump(camel_case=True)\n",
    "        for ext_id in timeseries_external_ids\n",
    "    ]\n",
    "    \n",
    "    return {\"generatedTasks\": tasks } \n",
    "\n",
    "# client.functions.delete(external_id=\"FirstnameBirthyear-function-dynamic\")\n",
    "\n",
    "# creating the Function may take a while.\n",
    "client.functions.create(name=\"FirstnameBirthyear-function-dynamic\", external_id=\"FirstnameBirthyear-function-dynamic\", function_handle=handle)"
   ]
  },
  {
   "cell_type": "code",
   "execution_count": null,
   "id": "51935173dfcb49ff",
   "metadata": {},
   "outputs": [],
   "source": [
    "from cognite.client.data_classes import DynamicTaskParameters\n",
    "\n",
    "dynamic_version = workflows.versions.upsert(version=WorkflowVersionUpsert(\n",
    "    workflow_external_id=FirstnameBirthyear_workflow.external_id,\n",
    "    version = \"my-dynamic-version\",\n",
    "    workflow_definition=WorkflowDefinitionUpsert(\n",
    "        tasks=[\n",
    "            WorkflowTask(\n",
    "                external_id=\"fetcher\",\n",
    "                parameters=FunctionTaskParameters(\n",
    "                    external_id=\"FirstnameBirthyear-function-fetch\",\n",
    "                    data=\"${workflow.input}\"\n",
    "                )\n",
    "            ),\n",
    "            WorkflowTask(\n",
    "                external_id=\"task-generator\",\n",
    "                parameters=FunctionTaskParameters(\n",
    "                    external_id=\"FirstnameBirthyear-function-dynamic\",\n",
    "                    data=\"${fetcher.output.response}\"\n",
    "                ),\n",
    "                depends_on=[\"fetcher\"]\n",
    "            ),\n",
    "            WorkflowTask(\n",
    "                external_id=\"printers\",\n",
    "                parameters=DynamicTaskParameters(\n",
    "                    tasks=\"${task-generator.output.response.generatedTasks}\"\n",
    "                ),\n",
    "                depends_on=[\"task-generator\"]\n",
    "            )\n",
    "        ],\n",
    "        description=None,\n",
    "    )\n",
    "))\n",
    "\n",
    "visualize_workflow_version(dynamic_version)"
   ]
  },
  {
   "cell_type": "code",
   "execution_count": null,
   "id": "eb7dada5501f4955",
   "metadata": {},
   "outputs": [],
   "source": [
    "from cognite.client.data_classes import TimeSeriesWrite\n",
    "\n",
    "client.time_series.create(\n",
    "    list(TimeSeriesWrite(external_id=f\"FirstnameBirthyear-{i}\") for i in range(10)),\n",
    ")"
   ]
  },
  {
   "cell_type": "code",
   "execution_count": null,
   "id": "42be6fda760e9b2d",
   "metadata": {},
   "outputs": [],
   "source": [
    "execution = workflows.executions.trigger(workflow_external_id=FirstnameBirthyear_workflow.external_id, version=dynamic_version.version, input={\"timeseries-prefix\": \"FirstnameBirthyear-\"})"
   ]
  },
  {
   "cell_type": "code",
   "execution_count": null,
   "id": "74dcd569a385a36c",
   "metadata": {},
   "outputs": [],
   "source": [
    "show_execution_progress(execution.id)"
   ]
  },
  {
   "cell_type": "markdown",
   "id": "b26c1433a0ccf83b",
   "metadata": {},
   "source": [
    "## Async Completion ##\n",
    "\n",
    "`What about human/async tasks?`\n",
    "\n",
    "![title](img/asynchronous_task_completion.png)\n",
    "\n",
    "A Cognite Function task can trigger a process running in a third-party system or prompt a user to take manual action as part of a workflow. For this type of usage, asynchronous completion of Cognite Function tasks is supported through the isAsyncComplete parameter.\n",
    "\n",
    "When isAsyncComplete parameter is set to true, the workflow will trigger the Cognite Function, and the task status will remain IN_PROGRESS until the workflow receives an explicit callback to the update task status endpoint to change the status (to one of COMPLETED, FAILED, or FAILED_WITH_TERMINAL_ERROR)."
   ]
  },
  {
   "cell_type": "code",
   "execution_count": null,
   "id": "8965a127efbaa902",
   "metadata": {},
   "outputs": [],
   "source": [
    "def handle(client, data):\n",
    "    # a variable containing the taskId is injected into the call when isAsyncComplete is set to True\n",
    "    orchestration_task_id = data[\"cogniteOrchestrationTaskId\"]\n",
    "    \n",
    "    # call an external service with the callId here, the external service can then update the task when it's done!\n",
    "    ...\n",
    "    \n",
    "    return { \"taskId\": orchestration_task_id }\n",
    "\n",
    "# client.functions.delete(external_id=\"FirstnameBirthyear-function-async-complete\")\n",
    "\n",
    "# creating the Function may take a while.\n",
    "client.functions.create(name=\"FirstnameBirthyear-function-async-complete\", external_id=\"FirstnameBirthyear-function-async-complete\", function_handle=handle)"
   ]
  },
  {
   "cell_type": "code",
   "execution_count": null,
   "id": "eccdee1ad4781551",
   "metadata": {},
   "outputs": [],
   "source": [
    "FirstnameBirthyear_async_completion = workflows.versions.upsert(version=WorkflowVersionUpsert(\n",
    "    workflow_external_id=FirstnameBirthyear_workflow.external_id,\n",
    "    version = \"FirstnameBirthyear-async-completion\",\n",
    "    workflow_definition=WorkflowDefinitionUpsert(\n",
    "        tasks=[\n",
    "            WorkflowTask(\n",
    "                external_id=\"async-complete-function\",\n",
    "                parameters=FunctionTaskParameters(\n",
    "                    external_id=\"FirstnameBirthyear-function-async-complete\",\n",
    "                    is_async_complete=True\n",
    "                ),\n",
    "                retries=0\n",
    "            )\n",
    "        ],\n",
    "        description=None,\n",
    "    )\n",
    "))\n",
    "\n",
    "visualize_workflow_version(FirstnameBirthyear_async_completion)"
   ]
  },
  {
   "cell_type": "code",
   "execution_count": null,
   "id": "bb39c241af7dbf52",
   "metadata": {},
   "outputs": [],
   "source": [
    "execution = workflows.executions.trigger(workflow_external_id=FirstnameBirthyear_workflow.external_id, version=FirstnameBirthyear_async_completion.version)"
   ]
  },
  {
   "cell_type": "code",
   "execution_count": null,
   "id": "c2485a7e9d8cb115",
   "metadata": {},
   "outputs": [],
   "source": [
    "show_execution_progress(execution.id)"
   ]
  },
  {
   "cell_type": "code",
   "execution_count": null,
   "id": "adc018c0-09a7-48d3-be32-8393cf3ed857",
   "metadata": {},
   "outputs": [],
   "source": [
    "workflows.tasks.update(\n",
    "    task_id='e372ed9e-ba3c-41e4-bc45-bf460d1b6d99', #copy the task id from above output and paste it here\n",
    "    status=\"completed\",\n",
    "    output={\"some-new-key\": 1}\n",
    ")"
   ]
  },
  {
   "cell_type": "markdown",
   "id": "983bc2cc385648cd",
   "metadata": {},
   "source": [
    "## Subworkflows\n",
    "The subworkflow task type is similar to the dynamic task type, but instead of generating the array of tasks dynamically at runtime, it is included statically in the workflow definition.\n",
    " \n",
    "- Use the Subworkflow task type to simplify the workflow definition significantly if you have many individual tasks that should be executed in parallel and have common upstream and downstream dependencies.\n",
    "- Use the Subworkflow to mark the outcome of a collection of tasks as optional, while keeping the possibility to have required tasks within the Subworkflow\n",
    "\n",
    "It takes the tasks parameter, which should be an array of valid task definitions."
   ]
  },
  {
   "cell_type": "code",
   "execution_count": 93,
   "id": "c60cd45d0a8eac78",
   "metadata": {},
   "outputs": [],
   "source": [
    "from cognite.client.data_classes import SubworkflowTaskParameters\n",
    "\n",
    "FirstnameBirthyear_async_completion = workflows.versions.upsert(version=WorkflowVersionUpsert(\n",
    "    workflow_external_id=FirstnameBirthyear_workflow.external_id,\n",
    "    version = \"FirstnameBirthyear-async-completion\",\n",
    "    workflow_definition=WorkflowDefinitionUpsert(\n",
    "        tasks=[\n",
    "            WorkflowTask(\n",
    "                external_id=\"subworkflow\",\n",
    "                parameters=SubworkflowTaskParameters(\n",
    "                    tasks=[\n",
    "                        WorkflowTask(\n",
    "                            external_id=\"async-complete-function\",\n",
    "                            parameters=FunctionTaskParameters(\n",
    "                                external_id=\"FirstnameBirthyear-function-async-complete\",\n",
    "                            ),\n",
    "                            retries=0\n",
    "                        )\n",
    "                    ]\n",
    "                ),\n",
    "                retries=0\n",
    "            )\n",
    "        ],\n",
    "        description=None,\n",
    "    )\n",
    "))"
   ]
  },
  {
   "cell_type": "markdown",
   "id": "73aea53f14ab799f",
   "metadata": {},
   "source": [
    "## Scheduling Workflows ##\n",
    "Currently, workflows do not support scheduled triggers. Use a Cognite Function (with schedules) to schedule workflows effectively; see the following example for reference.\n",
    "\n",
    "#### Step 1. Create the Cognite Function that will act as the workflow trigger\n",
    "You need to specify the client_credentials parameter inside the call to client.workflows.executions.trigger for the authentication to work at runtime."
   ]
  },
  {
   "cell_type": "code",
   "execution_count": null,
   "id": "10b3fe51fb3d3832",
   "metadata": {},
   "outputs": [],
   "source": [
    "# Define Function handle\n",
    "def handle(client, data, secrets):\n",
    "    from cognite.client.data_classes import ClientCredentials\n",
    "\n",
    "    execution = client.workflows.executions.trigger(\n",
    "        workflow_external_id=data[\"workflow-external-id\"],\n",
    "        version=data[\"workflow-version\"],\n",
    "    )\n",
    "\n",
    "    return f\"Workflow execution ID: {execution.id}\"\n",
    "\n",
    "# Create the Function\n",
    "function_name = \"FirstnameBirthyear-workflow_trigger\"\n",
    "client.functions.create(\n",
    "    name=function_name,\n",
    "    external_id=function_name,\n",
    "    function_handle=handle,\n",
    ")"
   ]
  },
  {
   "cell_type": "markdown",
   "id": "c637fc09e4c93fd1",
   "metadata": {},
   "source": [
    "#### Step 2: Create a Cognite Function schedule for each scheduled workflow trigger you need"
   ]
  },
  {
   "cell_type": "code",
   "execution_count": 101,
   "id": "9fb26105e978382",
   "metadata": {},
   "outputs": [],
   "source": [
    "from cognite.client.data_classes import ClientCredentials\n",
    "\n",
    "# Enter a cron expression for the schedule\n",
    "cron_expression = \"* * * * *\"  # E.g. every minute. Use https://crontab.guru/ to create a valid expression\n",
    "# Enter the details of the workflow to schedule\n",
    "workflow_external_id = FirstnameBirthyear_workflow.external_id\n",
    "workflow_version = workflow_with_all_task_types.version\n",
    "\n",
    "function_id = client.functions.retrieve(external_id=function_name).id\n",
    "schedule = client.functions.schedules.create(\n",
    "    name=f\"Scheduled trigger: {workflow_external_id}\",\n",
    "    cron_expression=cron_expression,\n",
    "    function_id=function_id,\n",
    "    data={\n",
    "        \"workflow-external-id\": workflow_external_id,\n",
    "        \"workflow-version\": workflow_version,\n",
    "    },\n",
    ")"
   ]
  },
  {
   "cell_type": "code",
   "execution_count": 102,
   "id": "a8e6dc90322c6ad6",
   "metadata": {},
   "outputs": [],
   "source": [
    "client.functions.schedules.delete(id=schedule.id)"
   ]
  },
  {
   "cell_type": "markdown",
   "id": "be49ce82e06574f2",
   "metadata": {},
   "source": [
    "## Thanks for learning with us!\n",
    "\n",
    "### Clean up\n",
    "Run the cell below to clean up all of the resources created during the showcase."
   ]
  },
  {
   "cell_type": "code",
   "execution_count": null,
   "id": "be1e41d7313fae66",
   "metadata": {},
   "outputs": [],
   "source": [
    "workflows.delete(external_id=\"FirstnameBirthyear-workflow\", ignore_unknown_ids=True)\n",
    "\n",
    "client.transformations.delete(external_id=\"FirstnameBirthyear-transform\", ignore_unknown_ids=True)\n",
    "\n",
    "client.functions.delete(external_id=\"FirstnameBirthyear-function-fetch\")\n",
    "client.functions.delete(external_id=\"FirstnameBirthyear-function-print\")\n",
    "client.functions.delete(external_id=\"FirstnameBirthyear-function-dynamic\")\n",
    "client.functions.delete(external_id=\"FirstnameBirthyear-function-async-complete\")\n",
    "client.functions.delete(external_id=\"FirstnameBirthyear-workflow_trigger\")\n",
    "\n",
    "client.time_series.delete(external_id=\"FirstnameBirthyear-timeseries\", ignore_unknown_ids=True)\n",
    "client.time_series.delete(\n",
    "    external_id=[f\"FirstnameBirthyear-{i}\" for i in range(10)], ignore_unknown_ids=True\n",
    ")"
   ]
  },
  {
   "cell_type": "code",
   "execution_count": null,
   "id": "250f2925",
   "metadata": {},
   "outputs": [],
   "source": []
  }
 ],
 "metadata": {
  "kernelspec": {
   "display_name": "Python 3.11.10 64-bit ('3.11.10')",
   "language": "python",
   "name": "python3"
  },
  "language_info": {
   "codemirror_mode": {
    "name": "ipython",
    "version": 3
   },
   "file_extension": ".py",
   "mimetype": "text/x-python",
   "name": "python",
   "nbconvert_exporter": "python",
   "pygments_lexer": "ipython3",
   "version": "3.11.10"
  },
  "vscode": {
   "interpreter": {
    "hash": "f70db2858dec0a35f7d2891c2bf8343e2d87093ebf8eedb935b1322a82bf4c76"
   }
  }
 },
 "nbformat": 4,
 "nbformat_minor": 5
}
